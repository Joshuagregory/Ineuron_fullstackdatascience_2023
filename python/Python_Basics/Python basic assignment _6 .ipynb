{
 "cells": [
  {
   "cell_type": "markdown",
   "metadata": {},
   "source": [
    "Q.1. What are keywords in python? Using the keyword library, print all the python keywords."
   ]
  },
  {
   "cell_type": "markdown",
   "metadata": {},
   "source": [
    "Python keywords are special reserved words that have specific meanings and purposes and can't be used for anything but those specific purposes."
   ]
  },
  {
   "cell_type": "code",
   "execution_count": 1,
   "metadata": {},
   "outputs": [
    {
     "name": "stdout",
     "output_type": "stream",
     "text": [
      "Python keywords are...\n",
      "['False', 'None', 'True', 'and', 'as', 'assert', 'async', 'await', 'break', 'class', 'continue', 'def', 'del', 'elif', 'else', 'except', 'finally', 'for', 'from', 'global', 'if', 'import', 'in', 'is', 'lambda', 'nonlocal', 'not', 'or', 'pass', 'raise', 'return', 'try', 'while', 'with', 'yield']\n"
     ]
    }
   ],
   "source": [
    "# importing the module\n",
    "import keyword\n",
    "\n",
    "# printing the keywords\n",
    "print(\"Python keywords are...\")\n",
    "print(keyword.kwlist)"
   ]
  },
  {
   "cell_type": "markdown",
   "metadata": {},
   "source": [
    "Q.2. What are the rules to create variables in python?"
   ]
  },
  {
   "cell_type": "markdown",
   "metadata": {},
   "source": [
    "1. A variable name must start with a letter or the underscore character\n",
    "2. A variable name cannot start with a number. \n",
    "3. A variable name can only contain alpha-numeric characters and underscores (A-z, 0-9, and _ )\n",
    "4. Variable names are case-sensitive (age, Age and AGE are three different variables)"
   ]
  },
  {
   "cell_type": "markdown",
   "metadata": {},
   "source": [
    "Q.3. What are the standards and conventions followed for the nomenclature of variables in\n",
    "python to improve code readability and maintainability?"
   ]
  },
  {
   "cell_type": "raw",
   "metadata": {},
   "source": [
    "1) Variable names should be descriptive: Choose meaningful names that accurately reflect the purpose or content of the variable. Avoid using single-character or ambiguous names like \"x\" or \"temp.\"\n",
    "\n",
    "2) Use lowercase letters and underscores: Variable names should be written in all lowercase letters, and words within the name should be separated by underscores. For example, use \"my_variable\" instead of \"MyVariable\" or \"myVariable.\"\n",
    "\n",
    "3) Avoid using reserved keywords: Do not use Python reserved keywords, such as \"if,\" \"for,\" or \"while,\" as variable names.\n",
    "\n",
    "4) Be consistent with naming style: Maintain consistency in variable naming throughout your codebase. If you have already used a particular naming convention, stick with it. Consistency helps improve code readability and reduces confusion.\n",
    "\n",
    "5) Use meaningful and concise names: Choose names that clearly convey the purpose or content of the variable but keep them reasonably short. Long, convoluted names can make the code harder to read. Aim for a balance between descriptiveness and brevity.\n",
    "\n",
    "6) Use lowercase for modules and packages: When importing modules or using package names, stick to lowercase letters. For example, use \"import os\" instead of \"import OS.\"\n",
    "\n",
    "7)Use uppercase for constants: If you have variables that are intended to be constants (values that should not be modified), use uppercase letters and underscores to separate words. For example, use \"MAX_SIZE\" instead of \"maxsize\" for a constant value."
   ]
  },
  {
   "cell_type": "markdown",
   "metadata": {},
   "source": [
    "Q.4. What will happen if a keyword is used as a variable name?\n"
   ]
  },
  {
   "cell_type": "markdown",
   "metadata": {},
   "source": [
    "Ans : Keyword used as variable name would throw a syntax error."
   ]
  },
  {
   "cell_type": "markdown",
   "metadata": {},
   "source": [
    "Q.5. For what purpose def keyword is used?"
   ]
  },
  {
   "cell_type": "markdown",
   "metadata": {},
   "source": [
    "Ans:  def keyword is used to create a function or define a function."
   ]
  },
  {
   "cell_type": "markdown",
   "metadata": {},
   "source": [
    "Q.6. What is the operation of this special character ‘\\’?"
   ]
  },
  {
   "cell_type": "markdown",
   "metadata": {},
   "source": [
    "In Python, the backslash(\\) is a special character. If you use the backslash in front of another character, it changes the meaning of that character.\n",
    "\n",
    "For example, the t is a literal character. But if you use the backslash character in front of the letter t, it’ll become the tab character (\\t).\n",
    "\n",
    "Generally, the backslash has two main purposes.\n",
    "\n",
    "First, the backslash character is a part of special character sequences such as the tab character \\t or the new line character \\n."
   ]
  },
  {
   "cell_type": "raw",
   "metadata": {},
   "source": [
    "Q.7. Give an example of the following conditions:\n",
    "(i) Homogeneous list\n",
    "(ii) Heterogeneous set\n",
    "(iii) Homogeneous tuple"
   ]
  },
  {
   "cell_type": "code",
   "execution_count": 9,
   "metadata": {},
   "outputs": [
    {
     "name": "stdout",
     "output_type": "stream",
     "text": [
      "[1, 2, 3, 4, 5]\n",
      "['apple', 'banana', 'cherry']\n",
      "[True, False, True, False]\n"
     ]
    }
   ],
   "source": [
    "#(i) Homogeneous list\n",
    "# Creating a homogeneous list of integers\n",
    "integer_list = [1, 2, 3, 4, 5]\n",
    "print(integer_list)\n",
    "\n",
    "# Creating a homogeneous list of strings\n",
    "string_list = ['apple', 'banana', 'cherry']\n",
    "print(string_list)\n",
    "\n",
    "# Creating a homogeneous list of booleans\n",
    "boolean_list = [True, False, True, False]\n",
    "print(boolean_list)"
   ]
  },
  {
   "cell_type": "code",
   "execution_count": 10,
   "metadata": {},
   "outputs": [
    {
     "name": "stdout",
     "output_type": "stream",
     "text": [
      "{'apple', 1, 3.14}\n"
     ]
    }
   ],
   "source": [
    "#(ii) Heterogeneous set\n",
    "# Creating a heterogeneous set\n",
    "heterogeneous_set = {1, 'apple', True, 3.14}\n",
    "print(heterogeneous_set)"
   ]
  },
  {
   "cell_type": "code",
   "execution_count": 11,
   "metadata": {},
   "outputs": [
    {
     "name": "stdout",
     "output_type": "stream",
     "text": [
      "(1, 2, 3, 4, 5)\n",
      "('apple', 'banana', 'cherry')\n",
      "(True, False, True, False)\n"
     ]
    }
   ],
   "source": [
    "#(iii) Homogeneous tuple\n",
    "# Creating a homogeneous tuple of integers\n",
    "integer_tuple = (1, 2, 3, 4, 5)\n",
    "print(integer_tuple)\n",
    "\n",
    "# Creating a homogeneous tuple of strings\n",
    "string_tuple = ('apple', 'banana', 'cherry')\n",
    "print(string_tuple)\n",
    "\n",
    "# Creating a homogeneous tuple of booleans\n",
    "boolean_tuple = (True, False, True, False)\n",
    "print(boolean_tuple)"
   ]
  },
  {
   "cell_type": "markdown",
   "metadata": {},
   "source": [
    "Q.8. Explain the mutable and immutable data types with proper explanation & examples."
   ]
  },
  {
   "cell_type": "raw",
   "metadata": {},
   "source": [
    "1, A mutable object can be changed after it is created ,An immutable object cannot be changed after it is created.\n",
    "2, Examples of mutable : List, Set, Dictionary , examples of immutable : tuples, int, float, bool\n",
    "3, Changing mutable objects is a cheaper operation in terms of space and time, Changing immutable objects is an expensive operation since it involves creating a new copy for any changes made\n"
   ]
  },
  {
   "cell_type": "code",
   "execution_count": 8,
   "metadata": {},
   "outputs": [
    {
     "name": "stdout",
     "output_type": "stream",
     "text": [
      "List after appending a value =  [1, 2, 3, 4, 5, 10]\n",
      "List after extending a list =  [1, 2, 3, 4, 5, 10, 6, 11, 23]\n",
      "List after removing a value =  [1, 2, 4, 5, 10, 6, 11, 23]\n"
     ]
    }
   ],
   "source": [
    "# This is to demonstrate how mutable objects work\n",
    "# our current list\n",
    "my_list = [1,2,3,4,5]\n",
    "\n",
    "# using append operation in our list\n",
    "my_list.append(10)\n",
    "# printing our list after the operation\n",
    "print(\"List after appending a value = \",my_list)\n",
    "\n",
    "# using extend operation in our list\n",
    "my_list.extend([6,11,23])\n",
    "# printing our list after the operation\n",
    "print(\"List after extending a list = \",my_list)\n",
    "\n",
    "# after removing a value from our list\n",
    "my_list.remove(3)\n",
    "# printing our list after the operation\n",
    "print(\"List after removing a value = \",my_list)"
   ]
  },
  {
   "cell_type": "raw",
   "metadata": {},
   "source": [
    "Q.9. Write a code to create the given structure using only for loop.\n",
    "    *\n",
    "   ***\n",
    "  *****\n",
    " *******\n",
    "*********"
   ]
  },
  {
   "cell_type": "code",
   "execution_count": 4,
   "metadata": {},
   "outputs": [
    {
     "name": "stdout",
     "output_type": "stream",
     "text": [
      "Enter number of rows: 5\n",
      "Enter a symbol: *\n",
      "    *\n",
      "   ***\n",
      "  *****\n",
      " *******\n",
      "*********\n"
     ]
    }
   ],
   "source": [
    "rows = int(input(\"Enter number of rows: \"))\n",
    "symbol = input(\"Enter a symbol: \")\n",
    "\n",
    "for i in range(rows):\n",
    "    for j in range(rows-i-1):\n",
    "        print(' ', end=\"\")\n",
    "    for k in range(2*i+1):\n",
    "        print(symbol,end= '')\n",
    "    print()    "
   ]
  },
  {
   "cell_type": "raw",
   "metadata": {},
   "source": [
    "Q.10. Write a code to create the given structure using while loop.\n",
    "|||||||||\n",
    " |||||||\n",
    "  |||||\n",
    "   |||\n",
    "    |"
   ]
  },
  {
   "cell_type": "code",
   "execution_count": 7,
   "metadata": {},
   "outputs": [
    {
     "name": "stdout",
     "output_type": "stream",
     "text": [
      "Enter the number of rows: 5\n",
      "|||||||||\n",
      " |||||||\n",
      "  |||||\n",
      "   |||\n",
      "    |\n"
     ]
    }
   ],
   "source": [
    "n=int(input(\"Enter the number of rows: \"))\n",
    "i =1\n",
    "\n",
    "while (n>0):\n",
    "    b =1\n",
    "    while b<i:\n",
    "        print(\" \", end =\"\")\n",
    "        b+=1\n",
    "    j=1\n",
    "    while (j<=(n*2)-1):\n",
    "        print(\"|\",end = \"\")\n",
    "        j+=1\n",
    "    print()\n",
    "    n=n-1\n",
    "    i=i+1\n",
    "        \n",
    "    "
   ]
  },
  {
   "cell_type": "code",
   "execution_count": null,
   "metadata": {},
   "outputs": [],
   "source": []
  }
 ],
 "metadata": {
  "kernelspec": {
   "display_name": "Python 3",
   "language": "python",
   "name": "python3"
  },
  "language_info": {
   "codemirror_mode": {
    "name": "ipython",
    "version": 3
   },
   "file_extension": ".py",
   "mimetype": "text/x-python",
   "name": "python",
   "nbconvert_exporter": "python",
   "pygments_lexer": "ipython3",
   "version": "3.8.5"
  }
 },
 "nbformat": 4,
 "nbformat_minor": 4
}
